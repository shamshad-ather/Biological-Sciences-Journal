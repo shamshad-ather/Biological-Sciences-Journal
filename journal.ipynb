{
 "cells": [
  {
   "cell_type": "code",
   "execution_count": 2,
   "metadata": {},
   "outputs": [],
   "source": [
    "import re\n",
    "import pandas as pd\n",
    "\n",
    "# Read the text file\n",
    "with open('nlmcatalog_result_full.txt', 'r', encoding='utf-8') as file:\n",
    "    content = file.read()\n",
    "\n",
    "# Split the content into individual records using 'NLM ID' as a separator\n",
    "records = re.split(r'NLM ID: \\d+\\[Serial\\]', content)\n",
    "\n",
    "# Initialize an empty list to store extracted data for each record\n",
    "data_list = []\n",
    "\n",
    "# Define the regular expressions to extract data\n",
    "regex_patterns = {\n",
    "    'Title Abbreviation': r'Title Abbreviation: (.+)',\n",
    "    'Title(s)': r'Title\\(s\\): (.+)',\n",
    "    'Publication Start Year': r'Publication Start Year: (\\d+)',\n",
    "    'Publication End Year': r'Publication End Year: (\\d+)?',\n",
    "    'Frequency': r'Frequency: (.+)',\n",
    "    'Country of Publication': r'Country of Publication: (.+)',\n",
    "    'Publisher': r'Publisher: (.+)',\n",
    "    'Language': r'Language: (.+)',\n",
    "    'ISSN': r'ISSN: (.+)',\n",
    "    'LCCN': r'LCCN: (.+)',\n",
    "    'Electronic Links': r'Electronic Links: (.+)',\n",
    "    'In': r'In: (.+)',\n",
    "    'Current Indexing Status': r'Current Indexing Status: (.+)',\n",
    "    'MeSH': r'MeSH: (.+)',\n",
    "    'Publication Type(s)': r'Publication Type\\(s\\): (.+)',\n",
    "    'Notes': r'Notes: (.+)',\n",
    "    'Other ID': r'Other ID: (.+)',\n",
    "}\n",
    "\n",
    "# Extract data from each record\n",
    "for record in records:\n",
    "    data = {}\n",
    "    for key, pattern in regex_patterns.items():\n",
    "        match = re.search(pattern, record)\n",
    "        if match:\n",
    "            data[key] = match.group(1)\n",
    "        else:\n",
    "            data[key] = ''\n",
    "    data_list.append(data)\n",
    "\n",
    "# Create a DataFrame from the extracted data\n",
    "df = pd.DataFrame(data_list)\n",
    "\n",
    "# Write the DataFrame to an Excel file\n",
    "df.to_excel('output2.xlsx', index=False)\n"
   ]
  },
  {
   "cell_type": "code",
   "execution_count": 3,
   "metadata": {},
   "outputs": [],
   "source": [
    "import pandas as pd\n",
    "\n",
    "# Load the data from \"output.xlsx\"\n",
    "df_output = pd.read_excel('output.xlsx')\n",
    "\n",
    "# Load the data from \"wos.xlsx\"\n",
    "df_wos = pd.read_excel('wos.xlsx')\n",
    "\n",
    "# Convert the 'Journal title' column to lowercase in both DataFrames\n",
    "df_output['Journal title'] = df_output['Journal title'].str.lower()\n",
    "df_wos['Journal title'] = df_wos['Journal title'].str.lower()\n",
    "\n",
    "# Merge the two DataFrames based on the lowercase 'Journal title' column\n",
    "merged_df = df_output.merge(df_wos, on='Journal title', how='inner')\n",
    "\n",
    "# Select the columns you want to keep in the new DataFrame\n",
    "columns_to_keep = ['Journal title', 'Frequency', 'Web of Science Categories']\n",
    "final_df = merged_df[columns_to_keep]\n",
    "\n",
    "# Write the final DataFrame to a new Excel file\n",
    "final_df.to_excel('common_journals_2.xlsx', index=False)\n"
   ]
  },
  {
   "cell_type": "code",
   "execution_count": 16,
   "metadata": {},
   "outputs": [],
   "source": [
    "import pandas as pd\n",
    "\n",
    "# Read the \"output.xlsx\" and \"wos.xlsx\" files into DataFrames\n",
    "output_df = pd.read_excel('output.xlsx')\n",
    "wos_df = pd.read_excel('wos.xlsx')\n",
    "\n",
    "# Find common ISSNs between the two DataFrames\n",
    "common_issns = set(output_df['ISSN']).intersection(wos_df['ISSN'])\n",
    "\n",
    "# Filter rows in the wos_df based on common ISSNs\n",
    "common_journals_wos = wos_df[wos_df['ISSN'].isin(common_issns)]\n",
    "\n",
    "# Select the desired columns from the common journals in wos_df\n",
    "desired_columns_wos = ['Journal_title', 'ISSN', 'eISSN', 'Web_of_Science_Categories']\n",
    "\n",
    "# Merge the 'Frequency' column from output_df\n",
    "common_journals_wos = common_journals_wos.merge(output_df[['ISSN', 'Frequency', 'Electronic_Links']], on='ISSN', how='left')\n",
    "\n",
    "# Save the common journals from wos_df to a new Excel file\n",
    "common_journals_wos.to_excel('common_journals_wos.xlsx', index=False)\n"
   ]
  },
  {
   "cell_type": "code",
   "execution_count": 14,
   "metadata": {},
   "outputs": [
    {
     "name": "stdout",
     "output_type": "stream",
     "text": [
      "Column names in output_df: Index(['Journal_title', 'Title_Abbreviation', 'Publication_Start_Year',\n",
      "       'Publication_End_Year', 'Frequency', 'Country_of_Publication',\n",
      "       'Publisher', 'Language', 'ISSN', 'eISSN', 'LCCN', 'Electronic_Links',\n",
      "       'In', 'Current_Indexing_Status', 'MeSH', 'Publication_Type(s)', 'Notes',\n",
      "       'Other_ID'],\n",
      "      dtype='object')\n",
      "Column names in wos_df: Index(['Journal_title', 'ISSN', 'eISSN', 'Publisher_name', 'Publisher_address',\n",
      "       'Languages', 'Web_of_Science_Categories'],\n",
      "      dtype='object')\n"
     ]
    }
   ],
   "source": [
    "import pandas as pd\n",
    "\n",
    "# Read the \"output.xlsx\" and \"wos.xlsx\" files into DataFrames\n",
    "output_df = pd.read_excel('output.xlsx')\n",
    "wos_df = pd.read_excel('WoS.xlsx')\n",
    "\n",
    "# Print the column names of each DataFrame to identify the correct names\n",
    "print(\"Column names in output_df:\", output_df.columns)\n",
    "print(\"Column names in wos_df:\", wos_df.columns)\n"
   ]
  }
 ],
 "metadata": {
  "kernelspec": {
   "display_name": "base",
   "language": "python",
   "name": "python3"
  },
  "language_info": {
   "codemirror_mode": {
    "name": "ipython",
    "version": 3
   },
   "file_extension": ".py",
   "mimetype": "text/x-python",
   "name": "python",
   "nbconvert_exporter": "python",
   "pygments_lexer": "ipython3",
   "version": "3.11.3"
  },
  "orig_nbformat": 4
 },
 "nbformat": 4,
 "nbformat_minor": 2
}
